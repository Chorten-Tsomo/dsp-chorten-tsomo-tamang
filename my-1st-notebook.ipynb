{
 "cells": [
  {
   "cell_type": "code",
   "execution_count": 1,
   "id": "4595ba54-eae3-4385-878f-104715d6d6be",
   "metadata": {},
   "outputs": [
    {
     "name": "stdout",
     "output_type": "stream",
     "text": [
      "[[81 88 88]\n",
      " [93 21 99]\n",
      " [58 62 33]\n",
      " [40 97 98]\n",
      " [ 6 45 15]\n",
      " [11 53 17]\n",
      " [98 61 63]\n",
      " [82 60 57]\n",
      " [46 35  8]\n",
      " [67  7 28]]\n"
     ]
    }
   ],
   "source": [
    "import numpy as np\n",
    "# Create a numpy array with shape (10, 3) filled with random integers\n",
    "my_array = np.random.randint(0, 100, size=(10, 3))\n",
    "\n",
    "# Print the array\n",
    "print(my_array)\n"
   ]
  },
  {
   "cell_type": "code",
   "execution_count": null,
   "id": "26524dd8-c7b6-4e1f-8c01-509b22c00107",
   "metadata": {},
   "outputs": [],
   "source": []
  },
  {
   "cell_type": "code",
   "execution_count": null,
   "id": "0b9a9684-66f7-4674-9f58-9d451f7ac12b",
   "metadata": {},
   "outputs": [],
   "source": []
  }
 ],
 "metadata": {
  "kernelspec": {
   "display_name": "Python 3 (ipykernel)",
   "language": "python",
   "name": "python3"
  },
  "language_info": {
   "codemirror_mode": {
    "name": "ipython",
    "version": 3
   },
   "file_extension": ".py",
   "mimetype": "text/x-python",
   "name": "python",
   "nbconvert_exporter": "python",
   "pygments_lexer": "ipython3",
   "version": "3.9.18"
  }
 },
 "nbformat": 4,
 "nbformat_minor": 5
}
